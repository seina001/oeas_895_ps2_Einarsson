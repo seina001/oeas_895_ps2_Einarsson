{
 "cells": [
  {
   "cell_type": "code",
   "execution_count": 36,
   "metadata": {},
   "outputs": [],
   "source": [
    "%matplotlib inline\n",
    "import pandas as pd\n",
    "import numpy as np\n",
    "import seaborn as sns\n",
    "import matplotlib.pyplot as plt\n",
    "#import division, I think I had an issue running this with python 2. This makes divide sign work properly\n",
    "#I have upgraded to python 3, but this is still run as python 2.Let me know if this causes an issue for you.\n",
    "from __future__ import division"
   ]
  },
  {
   "cell_type": "code",
   "execution_count": 37,
   "metadata": {},
   "outputs": [
    {
     "data": {
      "text/plain": [
       "['class_0', 'class_1', 'class_2']"
      ]
     },
     "execution_count": 37,
     "metadata": {},
     "output_type": "execute_result"
    }
   ],
   "source": [
    "#import the unkwown wine file, as well as the wine dataset from sklearn\n",
    "infile = 'unknown_wine.csv'\n",
    "unknownwine = pd.read_csv(infile,sep=(','))\n",
    "from sklearn.datasets import load_wine\n",
    "wine = load_wine()\n",
    "wine.target\n",
    "targetnamelist = list(wine.target_names)\n",
    "targetnamelist"
   ]
  },
  {
   "cell_type": "code",
   "execution_count": 38,
   "metadata": {},
   "outputs": [
    {
     "name": "stdout",
     "output_type": "stream",
     "text": [
      "(178, 13)\n",
      "(178,)\n"
     ]
    }
   ],
   "source": [
    "# Feature matrix in a object named X\n",
    "X = wine.data\n",
    "# response vector in a object named y\n",
    "y = wine.target\n",
    "#print the shape of X and Y\n",
    "print(np.shape(X))\n",
    "print(np.shape(y))"
   ]
  },
  {
   "cell_type": "code",
   "execution_count": 39,
   "metadata": {},
   "outputs": [],
   "source": [
    "#import the splitter (train/test) and the scaler\n",
    "from sklearn.model_selection import train_test_split\n",
    "from sklearn.preprocessing import StandardScaler\n",
    "#split the dataset\n",
    "X_train,X_test,y_train,y_test = train_test_split(X,y,test_size=0.2,random_state=4)\n",
    "#Scale the data to normalise\n",
    "scaler = StandardScaler()\n",
    "scaler.fit(X_train)\n",
    "\n",
    "X_train = scaler.transform(X_train)\n",
    "X_test = scaler.transform(X_test)"
   ]
  },
  {
   "cell_type": "code",
   "execution_count": 40,
   "metadata": {},
   "outputs": [
    {
     "name": "stdout",
     "output_type": "stream",
     "text": [
      "(142, 13)\n",
      "(36, 13)\n"
     ]
    }
   ],
   "source": [
    "#check the shape of train and test objects\n",
    "print(X_train.shape)\n",
    "print(X_test.shape)"
   ]
  },
  {
   "cell_type": "code",
   "execution_count": 41,
   "metadata": {},
   "outputs": [
    {
     "data": {
      "text/plain": [
       "[[1, 1, 0.8888888888888888, 1],\n",
       " [1, 2, 0.8888888888888888, 2],\n",
       " [1, 3, 0.6111111111111112, 3],\n",
       " [1, 4, 0.8888888888888888, 4],\n",
       " [1, 5, 0.3611111111111111, 5],\n",
       " [2, 1, 1.0, 6],\n",
       " [2, 2, 0.9722222222222222, 7],\n",
       " [2, 3, 0.9166666666666666, 8],\n",
       " [2, 4, 0.9722222222222222, 9],\n",
       " [2, 5, 0.9444444444444444, 10],\n",
       " [3, 1, 0.9722222222222222, 11],\n",
       " [3, 2, 0.9722222222222222, 12],\n",
       " [3, 3, 0.9444444444444444, 13],\n",
       " [3, 4, 1.0, 14],\n",
       " [3, 5, 0.9722222222222222, 15],\n",
       " [4, 1, 0.9722222222222222, 16],\n",
       " [4, 2, 1.0, 17],\n",
       " [4, 3, 0.9444444444444444, 18],\n",
       " [4, 4, 0.9722222222222222, 19],\n",
       " [4, 5, 0.9722222222222222, 20],\n",
       " [5, 1, 0.9722222222222222, 21],\n",
       " [5, 2, 1.0, 22],\n",
       " [5, 3, 1.0, 23],\n",
       " [5, 4, 1.0, 24],\n",
       " [5, 5, 0.9722222222222222, 25]]"
      ]
     },
     "execution_count": 41,
     "metadata": {},
     "output_type": "execute_result"
    }
   ],
   "source": [
    "#import classifier\n",
    "from sklearn.neural_network import MLPClassifier\n",
    "\n",
    "#import metrics model to check the accuracy \n",
    "from sklearn import metrics\n",
    "\n",
    "#initialize lists, goodfit saves node, layer count and accuracy, goodfitMATRIX saves the confusion matrix for\n",
    "#those that have accuracy above 0.9\n",
    "#results saves the nodes/layers/score for all models\n",
    "#layers is fed to the classifier, and is changed during each for and while loop\n",
    "goodfit = []\n",
    "goodfitMATRIX = []\n",
    "results = []\n",
    "layers = []\n",
    "count_layer = 1\n",
    "first =0\n",
    "rstate_nr = 1\n",
    "for x in range(5):\n",
    "    while count_layer <6:\n",
    "        #append to the layer list ex. [1],[1,1]... then as x increases\n",
    "        #ex. [2],[2,2]...\n",
    "        layers.append(x+1)\n",
    "        mlp = MLPClassifier(hidden_layer_sizes=layers[count_layer-1],max_iter=10000,random_state=rstate_nr)\n",
    "        mlp.fit(X_train,y_train)\n",
    "        predictions = mlp.predict(X_test)\n",
    "        accresults = metrics.accuracy_score(y_test,predictions)\n",
    "        res = [x+1,count_layer,accresults,rstate_nr]\n",
    "        confmat = metrics.confusion_matrix(y_test, predictions)\n",
    "        if accresults >= 0.9:\n",
    "            goodfit.append(res)\n",
    "            goodfitMATRIX.append(confmat)\n",
    "            #Because while testing I've seen that several are perfect fits\n",
    "            #I'm adding an if statement to test the first perfect fit I get on the unknown data        \n",
    "            Tp = confmat[1,1]\n",
    "            Fp = confmat[1,2]\n",
    "            Fn = confmat[2,1]\n",
    "            Tn = confmat[2,2]\n",
    "            Precision = Tp / np.add(Tp,Fp)\n",
    "            Recall = Tp / np.add(Tp,Fn)\n",
    "            Accuracy = np.add(Tp,Tn) / (Tp+Fp+Fn+Tn)\n",
    "            Fmeasure = (2*Recall*Precision) / np.add(Recall,Precision)\n",
    "            if Precision ==1 and Recall ==1 and Accuracy==1 and Fmeasure==1 and first ==0:\n",
    "                unkprediction = mlp.predict(unknownwine)\n",
    "                classprediction = []\n",
    "                bestfit = res[0:2]\n",
    "                for i in unkprediction:\n",
    "                    tname = targetnamelist[i]\n",
    "                    classprediction.append(tname)\n",
    "                prob = mlp.predict_proba(unknownwine)\n",
    "                first =1\n",
    "        results.append(res)\n",
    "        count_layer = count_layer+1\n",
    "        rstate_nr = rstate_nr+1\n",
    "    count_layer = 1\n",
    "    layers = []\n",
    "#print results\n",
    "results"
   ]
  },
  {
   "cell_type": "code",
   "execution_count": 42,
   "metadata": {},
   "outputs": [
    {
     "data": {
      "image/png": "[encoded data removed]",
      "text/plain": [
       "<Figure size 432x288 with 2 Axes>"
      ]
     },
     "metadata": {
      "needs_background": "light"
     },
     "output_type": "display_data"
    }
   ],
   "source": [
    "#make results list into an array for plotting\n",
    "myarray = np.asarray(results)\n",
    "\n",
    "#make a dataframe with each column named for ploting\n",
    "data = pd.DataFrame({'nodes': myarray[:,0], 'layers': myarray[:,1], 'Z': myarray[:,2]})\n",
    "data_pivoted = data.pivot(\"nodes\", \"layers\", \"Z\")\n",
    "#vmin,vmax changed just to show mainly the ones above 0.9\n",
    "ax = sns.heatmap(data_pivoted,vmin=0.9, vmax=1)\n",
    "plt.show()"
   ]
  },
  {
   "cell_type": "markdown",
   "metadata": {},
   "source": [
    "This heat map shows which models had the best accuracy. I have the z variable (accuracy) plotted from 0.9-1.0. So any that are not black were found to be above 0.9 accuracy score. \n",
    "As seen above all models showed a high accuracy score above 0.9 if the nodes used were above 1. The lighter the color the better accuracy.\n",
    "If you see in my for loop above, I put in an if statement that if I happen to have a model that is a perfect fit, which I had seen occur while testing different things. So I happened to know that there were perfect models. However, the code below still prints the best fit models if there aren't and models that have a perfect fit.\n",
    "\n",
    "I chose the first instance of a perfect model to test on the unknownwine data set, because I assume that the lowest node/layer model that is a perfect fit will be faster and more efficient than any models that are also perfect but have more nodes/layers.\n",
    "\n",
    "#####Describe the implications of your results for model performance for each target class and choose which layers/neurons you will use in the final version of your model.#####\n"
   ]
  },
  {
   "cell_type": "code",
   "execution_count": 44,
   "metadata": {},
   "outputs": [
    {
     "name": "stdout",
     "output_type": "stream",
     "text": [
      "Nodes used 2, and layers used 1 in best fit model\n",
      "['class_0', 'class_0', 'class_0', 'class_0', 'class_0', 'class_0', 'class_0', 'class_2', 'class_0', 'class_0']\n",
      "[[1.00000000e+000 0.00000000e+000 0.00000000e+000]\n",
      " [1.00000000e+000 0.00000000e+000 9.23125049e-238]\n",
      " [1.00000000e+000 0.00000000e+000 3.45178196e-153]\n",
      " [1.00000000e+000 5.34371771e-277 9.75519919e-093]\n",
      " [1.00000000e+000 0.00000000e+000 3.73125518e-131]\n",
      " [1.00000000e+000 7.57430851e-148 1.40435092e-043]\n",
      " [1.00000000e+000 0.00000000e+000 5.50351480e-110]\n",
      " [1.11945166e-009 3.96531250e-107 9.99999999e-001]\n",
      " [1.00000000e+000 2.00854940e-312 6.79710476e-083]\n",
      " [1.00000000e+000 1.28671354e-225 1.23673441e-074]]\n"
     ]
    }
   ],
   "source": [
    "#for each model that has accuracy above 0.9, calculate the precision, recall, accuracy, Fmeasure, and print\n",
    "#if there was a perfect fit then skip this step ex. first =1\n",
    "if first == 0:\n",
    "    count = 0\n",
    "    for i in goodfitMATRIX:\n",
    "        print goodfit[count]\n",
    "        confmat = i\n",
    "        Tp = confmat[1,1]\n",
    "        Fp = confmat[1,2]\n",
    "        Fn = confmat[2,1]\n",
    "        Tn = confmat[2,2]\n",
    "        Precision = Tp / np.add(Tp,Fp)\n",
    "        Recall = Tp / np.add(Tp,Fn)\n",
    "        Accuracy = np.add(Tp,Tn) / (Tp+Fp+Fn+Tn)\n",
    "        Fmeasure = (2*Recall*Precision) / np.add(Recall,Precision)\n",
    "        print ('Precision = %s, Recall =  %s, Accuracy =  %s, F-mes = %s' % (Precision,Recall,Accuracy,Fmeasure))\n",
    "        count = count+1\n",
    "else:\n",
    "    print ('Nodes used %s, and layers used %s in best fit model' % (bestfit[0],bestfit[1]))\n",
    "    print classprediction\n",
    "    print prob\n",
    "\n"
   ]
  },
  {
   "cell_type": "code",
   "execution_count": 19,
   "metadata": {},
   "outputs": [
    {
     "data": {
      "text/plain": [
       "0.8888888888888888"
      ]
     },
     "execution_count": 19,
     "metadata": {},
     "output_type": "execute_result"
    }
   ],
   "source": [
    "#use best model to train data and return accuracy\n",
    "#this is done by hand if there was no perfect fit\n",
    "\n",
    "mlp = MLPClassifier(hidden_layer_sizes=(100,100,100),max_iter=1000,random_state=42)\n",
    "mlp.fit(X_train,y_train)\n",
    "predictions = mlp.predict(X_test)\n",
    "accresults = metrics.accuracy_score(y_test,predictions)\n",
    "accresults"
   ]
  },
  {
   "cell_type": "markdown",
   "metadata": {},
   "source": [
    "Find a scikit-learn function that will give the probability that each unknown wine fits into \n",
    "each of one of the three target classes. List the probabilities for each unknown sample \n",
    "for each target class and comment on your results. "
   ]
  },
  {
   "cell_type": "code",
   "execution_count": null,
   "metadata": {},
   "outputs": [],
   "source": []
  },
  {
   "cell_type": "code",
   "execution_count": null,
   "metadata": {},
   "outputs": [],
   "source": []
  },
  {
   "cell_type": "code",
   "execution_count": null,
   "metadata": {},
   "outputs": [],
   "source": []
  },
  {
   "cell_type": "code",
   "execution_count": null,
   "metadata": {},
   "outputs": [],
   "source": []
  },
  {
   "cell_type": "code",
   "execution_count": null,
   "metadata": {},
   "outputs": [],
   "source": []
  },
  {
   "cell_type": "code",
   "execution_count": null,
   "metadata": {},
   "outputs": [],
   "source": []
  },
  {
   "cell_type": "code",
   "execution_count": null,
   "metadata": {},
   "outputs": [],
   "source": []
  },
  {
   "cell_type": "code",
   "execution_count": null,
   "metadata": {},
   "outputs": [],
   "source": []
  },
  {
   "cell_type": "code",
   "execution_count": null,
   "metadata": {},
   "outputs": [],
   "source": []
  },
  {
   "cell_type": "code",
   "execution_count": null,
   "metadata": {},
   "outputs": [],
   "source": []
  }
 ],
 "metadata": {
  "kernelspec": {
   "display_name": "Python 2",
   "language": "python",
   "name": "python2"
  },
  "language_info": {
   "codemirror_mode": {
    "name": "ipython",
    "version": 2
   },
   "file_extension": ".py",
   "mimetype": "text/x-python",
   "name": "python",
   "nbconvert_exporter": "python",
   "pygments_lexer": "ipython2",
   "version": "2.7.16"
  }
 },
 "nbformat": 4,
 "nbformat_minor": 2
}
