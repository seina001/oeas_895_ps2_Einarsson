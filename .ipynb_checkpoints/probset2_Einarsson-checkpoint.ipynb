{
 "cells": [
  {
   "cell_type": "code",
   "execution_count": 40,
   "metadata": {},
   "outputs": [],
   "source": [
    "%matplotlib inline\n",
    "import pandas as pd\n",
    "import numpy as np\n",
    "from sklearn.datasets import load_iris\n",
    "\n",
    "import seaborn as sns\n",
    "\n",
    "import matplotlib.pyplot as plt"
   ]
  },
  {
   "cell_type": "code",
   "execution_count": 2,
   "metadata": {},
   "outputs": [
    {
     "data": {
      "text/plain": [
       "['class_0', 'class_1', 'class_2']"
      ]
     },
     "execution_count": 2,
     "metadata": {},
     "output_type": "execute_result"
    }
   ],
   "source": [
    "infile = 'unknown_wine.csv'\n",
    "unknownwine = pd.read_csv(infile,sep=(','))\n",
    "#unknownwine\n",
    "from sklearn.datasets import load_wine\n",
    "wine = load_wine()\n",
    "wine.target\n",
    "list(wine.target_names)"
   ]
  },
  {
   "cell_type": "code",
   "execution_count": 3,
   "metadata": {},
   "outputs": [
    {
     "name": "stdout",
     "output_type": "stream",
     "text": [
      "(178, 13)\n",
      "(178,)\n"
     ]
    }
   ],
   "source": [
    "# Feature matrix in a object named X\n",
    "X = wine.data\n",
    "# response vector in a object named y\n",
    "y = wine.target\n",
    "\n",
    "print(np.shape(X))\n",
    "print(np.shape(y))"
   ]
  },
  {
   "cell_type": "code",
   "execution_count": 4,
   "metadata": {},
   "outputs": [],
   "source": [
    "# Split iris data in train and test data (80:20)\n",
    "\n",
    "from sklearn.model_selection import train_test_split\n",
    "\n",
    "X_train,X_test,y_train,y_test = train_test_split(X,y,test_size=0.2,random_state=4)"
   ]
  },
  {
   "cell_type": "code",
   "execution_count": 5,
   "metadata": {},
   "outputs": [
    {
     "name": "stdout",
     "output_type": "stream",
     "text": [
      "(142, 13)\n",
      "(36, 13)\n"
     ]
    }
   ],
   "source": [
    "#check the shape of train and test objects\n",
    "print(X_train.shape)\n",
    "print(X_test.shape)"
   ]
  },
  {
   "cell_type": "code",
   "execution_count": 23,
   "metadata": {},
   "outputs": [
    {
     "data": {
      "text/plain": [
       "[[1, 1, 0.3611111111111111],\n",
       " [1, 2, 0.3611111111111111],\n",
       " [1, 3, 0.2777777777777778],\n",
       " [1, 4, 0.5555555555555556],\n",
       " [1, 5, 0.6388888888888888],\n",
       " [1, 6, 0.08333333333333333],\n",
       " [1, 7, 0.2777777777777778],\n",
       " [1, 8, 0.2777777777777778],\n",
       " [1, 9, 0.2777777777777778],\n",
       " [1, 10, 0.2777777777777778],\n",
       " [2, 1, 0.3611111111111111],\n",
       " [2, 2, 0.3611111111111111],\n",
       " [2, 3, 0.3611111111111111],\n",
       " [2, 4, 0.3333333333333333],\n",
       " [2, 5, 0.3611111111111111],\n",
       " [2, 6, 0.3611111111111111],\n",
       " [2, 7, 0.2777777777777778],\n",
       " [2, 8, 0.3611111111111111],\n",
       " [2, 9, 0.3611111111111111],\n",
       " [2, 10, 0.2777777777777778],\n",
       " [3, 1, 0.6111111111111112],\n",
       " [3, 2, 0.5],\n",
       " [3, 3, 0.3888888888888889],\n",
       " [3, 4, 0.6388888888888888],\n",
       " [3, 5, 0.3611111111111111],\n",
       " [3, 6, 0.3611111111111111],\n",
       " [3, 7, 0.6111111111111112],\n",
       " [3, 8, 0.3611111111111111],\n",
       " [3, 9, 0.05555555555555555],\n",
       " [3, 10, 0.1388888888888889],\n",
       " [4, 1, 0.2777777777777778],\n",
       " [4, 2, 0.5833333333333334],\n",
       " [4, 3, 0.2777777777777778],\n",
       " [4, 4, 0.3611111111111111],\n",
       " [4, 5, 0.5277777777777778],\n",
       " [4, 6, 0.2777777777777778],\n",
       " [4, 7, 0.3611111111111111],\n",
       " [4, 8, 0.2777777777777778],\n",
       " [4, 9, 0.2777777777777778],\n",
       " [4, 10, 0.8055555555555556],\n",
       " [5, 1, 0.3611111111111111],\n",
       " [5, 2, 0.2777777777777778],\n",
       " [5, 3, 0.3611111111111111],\n",
       " [5, 4, 0.3611111111111111],\n",
       " [5, 5, 0.3611111111111111],\n",
       " [5, 6, 0.3611111111111111],\n",
       " [5, 7, 0.3611111111111111],\n",
       " [5, 8, 0.3611111111111111],\n",
       " [5, 9, 0.3611111111111111],\n",
       " [5, 10, 0.3611111111111111],\n",
       " [6, 1, 0.3611111111111111],\n",
       " [6, 2, 0.25],\n",
       " [6, 3, 0.2777777777777778],\n",
       " [6, 4, 0.3611111111111111],\n",
       " [6, 5, 0.2777777777777778],\n",
       " [6, 6, 0.3611111111111111],\n",
       " [6, 7, 0.3611111111111111],\n",
       " [6, 8, 0.3611111111111111],\n",
       " [6, 9, 0.3611111111111111],\n",
       " [6, 10, 0.3611111111111111],\n",
       " [7, 1, 0.3611111111111111],\n",
       " [7, 2, 0.3611111111111111],\n",
       " [7, 3, 0.3611111111111111],\n",
       " [7, 4, 0.3611111111111111],\n",
       " [7, 5, 0.2777777777777778],\n",
       " [7, 6, 0.3611111111111111],\n",
       " [7, 7, 0.3611111111111111],\n",
       " [7, 8, 0.3611111111111111],\n",
       " [7, 9, 0.3611111111111111],\n",
       " [7, 10, 0.2777777777777778],\n",
       " [8, 1, 0.3611111111111111],\n",
       " [8, 2, 0.5277777777777778],\n",
       " [8, 3, 0.05555555555555555],\n",
       " [8, 4, 0.05555555555555555],\n",
       " [8, 5, 0.3611111111111111],\n",
       " [8, 6, 0.3611111111111111],\n",
       " [8, 7, 0.2777777777777778],\n",
       " [8, 8, 0.3611111111111111],\n",
       " [8, 9, 0.2777777777777778],\n",
       " [8, 10, 0.0],\n",
       " [9, 1, 0.3611111111111111],\n",
       " [9, 2, 0.2777777777777778],\n",
       " [9, 3, 0.3611111111111111],\n",
       " [9, 4, 0.2777777777777778],\n",
       " [9, 5, 0.5277777777777778],\n",
       " [9, 6, 0.2777777777777778],\n",
       " [9, 7, 0.3611111111111111],\n",
       " [9, 8, 0.3611111111111111],\n",
       " [9, 9, 0.3611111111111111],\n",
       " [9, 10, 0.4166666666666667],\n",
       " [10, 1, 0.3611111111111111],\n",
       " [10, 2, 0.2777777777777778],\n",
       " [10, 3, 0.2777777777777778],\n",
       " [10, 4, 0.3611111111111111],\n",
       " [10, 5, 0.5833333333333334],\n",
       " [10, 6, 0.9722222222222222],\n",
       " [10, 7, 0.3611111111111111],\n",
       " [10, 8, 0.3611111111111111],\n",
       " [10, 9, 0.9722222222222222],\n",
       " [10, 10, 0.3611111111111111]]"
      ]
     },
     "execution_count": 23,
     "metadata": {},
     "output_type": "execute_result"
    }
   ],
   "source": [
    "from sklearn.neural_network import MLPClassifier\n",
    "\n",
    "#import metrics model to check the accuracy \n",
    "from sklearn import metrics\n",
    "\n",
    "#mlp = MLPClassifier(hidden_layer_sizes=(100,),max_iter=100)\n",
    "results = []\n",
    "layers = []\n",
    "count_layer = 1\n",
    "for x in range(10):\n",
    "    while count_layer <11:\n",
    "        layers.append(x+1)\n",
    "        mlp = MLPClassifier(hidden_layer_sizes=layers[count_layer-1],max_iter=1000)\n",
    "        mlp.fit(X_train,y_train)\n",
    "        predictions = mlp.predict(X_test)\n",
    "        accresults = metrics.accuracy_score(y_test,predictions)\n",
    "        res = [x+1,count_layer,accresults]\n",
    "        results.append(res)\n",
    "        count_layer = count_layer+1\n",
    "    count_layer = 1\n",
    "    layers = []\n",
    "    \n",
    "results"
   ]
  },
  {
   "cell_type": "code",
   "execution_count": 47,
   "metadata": {},
   "outputs": [
    {
     "data": {
      "image/png": "[encoded data removed]",
      "text/plain": [
       "<Figure size 432x288 with 2 Axes>"
      ]
     },
     "metadata": {
      "needs_background": "light"
     },
     "output_type": "display_data"
    }
   ],
   "source": [
    "myarray = np.asarray(results)\n",
    "#plt.plot(y_test,predictions,'ro')\n",
    "#nodes = int(myarray[:,0])\n",
    "#layers = int(myarray[:,1])\n",
    "#accuracy = myarray[:2]\n",
    "\n",
    "\n",
    "data = pd.DataFrame({'nodes': myarray[:,0], 'layers': myarray[:,1], 'Z': myarray[:,2]})\n",
    "data_pivoted = data.pivot(\"nodes\", \"layers\", \"Z\")\n",
    "ax = sns.heatmap(data_pivoted,vmin=0.9, vmax=1)\n",
    "plt.show()"
   ]
  },
  {
   "cell_type": "code",
   "execution_count": 98,
   "metadata": {},
   "outputs": [
    {
     "name": "stdout",
     "output_type": "stream",
     "text": [
      "0.9444444444444444\n",
      "[[10  0  0]\n",
      " [ 1 12  0]\n",
      " [ 0  1 12]]\n"
     ]
    }
   ],
   "source": [
    "mlp = MLPClassifier(hidden_layer_sizes=(10,10,10,10,10,10),max_iter=1000)\n",
    "mlp.fit(X_train,y_train)\n",
    "predictions = mlp.predict(X_test)\n",
    "accresults = metrics.accuracy_score(y_test,predictions)\n",
    "print accresults\n",
    "confmat = metrics.confusion_matrix(y_test, predictions)\n",
    "print confmat"
   ]
  },
  {
   "cell_type": "code",
   "execution_count": 100,
   "metadata": {},
   "outputs": [
    {
     "name": "stdout",
     "output_type": "stream",
     "text": [
      "Precision = \n",
      "1\n",
      "Recall = \n",
      "2\n",
      "Accuracy =\n",
      "0\n"
     ]
    }
   ],
   "source": [
    "Precision = confmat[1,1]/(confmat[1,1]+confmat[1,2])\n",
    "print \"Precision = \" \n",
    "print Precision\n",
    "Recall = confmat[1,1]/confmat[1,1]+confmat[2,1]\n",
    "print \"Recall = \"\n",
    "print Recall\n",
    "Accuracy = (confmat[1,1]+confmat[2,2])/sum(confmat[1,:]+confmat[2,:])\n",
    "print \"Accuracy =\"\n",
    "print Accuracy"
   ]
  },
  {
   "cell_type": "code",
   "execution_count": 82,
   "metadata": {},
   "outputs": [
    {
     "data": {
      "text/plain": [
       "MLPClassifier(activation='relu', alpha=0.0001, batch_size='auto', beta_1=0.9,\n",
       "       beta_2=0.999, early_stopping=False, epsilon=1e-08,\n",
       "       hidden_layer_sizes=(100,), learning_rate='constant',\n",
       "       learning_rate_init=0.001, max_iter=1000, momentum=0.9,\n",
       "       n_iter_no_change=10, nesterovs_momentum=True, power_t=0.5,\n",
       "       random_state=None, shuffle=True, solver='adam', tol=0.0001,\n",
       "       validation_fraction=0.1, verbose=False, warm_start=False)"
      ]
     },
     "execution_count": 82,
     "metadata": {},
     "output_type": "execute_result"
    }
   ],
   "source": [
    "#import the KNeighborsClassifier class from sklearn\n",
    "from sklearn.neural_network import MLPClassifier\n",
    "\n",
    "#import metrics model to check the accuracy \n",
    "from sklearn import metrics\n",
    "\n",
    "mlp = MLPClassifier(hidden_layer_sizes=(100,),max_iter=1000)\n",
    "\n",
    "mlp.fit(X_train,y_train)"
   ]
  },
  {
   "cell_type": "code",
   "execution_count": 79,
   "metadata": {},
   "outputs": [
    {
     "name": "stderr",
     "output_type": "stream",
     "text": [
      "/home/denni/anaconda2/lib/python2.7/site-packages/sklearn/model_selection/_search.py:841: DeprecationWarning: The default of the `iid` parameter will change from True to False in version 0.22 and will be removed in 0.24. This will change numeric results when test-set sizes are unequal.\n",
      "  DeprecationWarning)\n"
     ]
    },
    {
     "name": "stdout",
     "output_type": "stream",
     "text": [
      "('Best parameters found:\\n', {'alpha': 0.0001, 'activation': 'tanh', 'solver': 'adam', 'learning_rate': 'adaptive', 'hidden_layer_sizes': (100,)})\n"
     ]
    }
   ],
   "source": [
    "parameter_space = {\n",
    "    'hidden_layer_sizes': [(50,50,50), (50,100,50), (100,)],\n",
    "    'activation': ['tanh', 'relu'],\n",
    "    'solver': ['sgd', 'adam'],\n",
    "    'alpha': [0.0001, 0.05],\n",
    "    'learning_rate': ['constant','adaptive'],\n",
    "}\n",
    "\n",
    "from sklearn.model_selection import GridSearchCV\n",
    "\n",
    "clf = GridSearchCV(mlp, parameter_space, n_jobs=-1, cv=3)\n",
    "clf.fit(X_train,y_train)\n",
    "\n",
    "# Best paramete set\n",
    "print('Best parameters found:\\n', clf.best_params_)\n",
    "\n",
    "# All results\n",
    "#means = clf.cv_results_['mean_test_score']\n",
    "#stds = clf.cv_results_['std_test_score']\n",
    "#for mean, std, params in zip(means, stds, clf.cv_results_['params']):\n",
    "    #print(\"%0.3f (+/-%0.03f) for %r\" % (mean, std * 2, params))"
   ]
  },
  {
   "cell_type": "code",
   "execution_count": 70,
   "metadata": {},
   "outputs": [
    {
     "name": "stdout",
     "output_type": "stream",
     "text": [
      "MLPClassifier(activation='tanh', alpha=0.05, batch_size='auto', beta_1=0.9,\n",
      "       beta_2=0.999, early_stopping=False, epsilon=1e-08,\n",
      "       hidden_layer_sizes=(100,), learning_rate='adaptive',\n",
      "       learning_rate_init=0.001, max_iter=1000, momentum=0.9,\n",
      "       n_iter_no_change=10, nesterovs_momentum=True, power_t=0.5,\n",
      "       random_state=None, shuffle=True, solver='adam', tol=0.0001,\n",
      "       validation_fraction=0.1, verbose=False, warm_start=False)\n"
     ]
    }
   ],
   "source": [
    "print(clf.best_estimator_)"
   ]
  },
  {
   "cell_type": "code",
   "execution_count": null,
   "metadata": {},
   "outputs": [],
   "source": [
    "y_true, y_pred = y_test , clf.predict(X_test)\n",
    "from sklearn.metrics import classification_report\n",
    "print('Results on the test set:')\n",
    "print(classification_report(y_true, y_pred))"
   ]
  },
  {
   "cell_type": "code",
   "execution_count": 54,
   "metadata": {},
   "outputs": [
    {
     "data": {
      "text/plain": [
       "0.6111111111111112"
      ]
     },
     "execution_count": 54,
     "metadata": {},
     "output_type": "execute_result"
    },
    {
     "data": {
      "image/png": "[encoded data removed]",
      "text/plain": [
       "<Figure size 432x288 with 1 Axes>"
      ]
     },
     "metadata": {
      "needs_background": "light"
     },
     "output_type": "display_data"
    }
   ],
   "source": [
    "predictions = mlp.predict(X_test)\n",
    "# plot the model accuracy for each value\n",
    "\n",
    "plt.plot(y_test,predictions,'ro')\n",
    "plt.plot([0,2],[0,2],'k')\n",
    "# plot the model accuracy for each value of k\n",
    "metrics.accuracy_score(y_test,predictions)"
   ]
  },
  {
   "cell_type": "code",
   "execution_count": 50,
   "metadata": {},
   "outputs": [
    {
     "ename": "AttributeError",
     "evalue": "'numpy.ndarray' object has no attribute 'test_labels'",
     "output_type": "error",
     "traceback": [
      "\u001b[0;31m\u001b[0m",
      "\u001b[0;31mAttributeError\u001b[0mTraceback (most recent call last)",
      "\u001b[0;32m<ipython-input-50-ae837a2a35dc>\u001b[0m in \u001b[0;36m<module>\u001b[0;34m()\u001b[0m\n\u001b[1;32m      1\u001b[0m \u001b[0;32mfrom\u001b[0m \u001b[0msklearn\u001b[0m\u001b[0;34m.\u001b[0m\u001b[0mmetrics\u001b[0m \u001b[0;32mimport\u001b[0m \u001b[0maccuracy_score\u001b[0m\u001b[0;34m\u001b[0m\u001b[0m\n\u001b[0;32m----> 2\u001b[0;31m \u001b[0maccuracy_score\u001b[0m\u001b[0;34m(\u001b[0m\u001b[0mpredictions\u001b[0m\u001b[0;34m.\u001b[0m\u001b[0mtest_labels\u001b[0m\u001b[0;34m,\u001b[0m \u001b[0mpredictions\u001b[0m\u001b[0;34m.\u001b[0m\u001b[0mpredicted_labels\u001b[0m\u001b[0;34m)\u001b[0m\u001b[0;34m\u001b[0m\u001b[0m\n\u001b[0m",
      "\u001b[0;31mAttributeError\u001b[0m: 'numpy.ndarray' object has no attribute 'test_labels'"
     ]
    }
   ],
   "source": [
    "from sklearn.metrics import accuracy_score\n"
   ]
  },
  {
   "cell_type": "code",
   "execution_count": null,
   "metadata": {},
   "outputs": [],
   "source": []
  }
 ],
 "metadata": {
  "kernelspec": {
   "display_name": "Python 2",
   "language": "python",
   "name": "python2"
  },
  "language_info": {
   "codemirror_mode": {
    "name": "ipython",
    "version": 2
   },
   "file_extension": ".py",
   "mimetype": "text/x-python",
   "name": "python",
   "nbconvert_exporter": "python",
   "pygments_lexer": "ipython2",
   "version": "2.7.16"
  }
 },
 "nbformat": 4,
 "nbformat_minor": 2
}
