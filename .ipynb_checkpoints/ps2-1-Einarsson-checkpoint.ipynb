{
 "cells": [
  {
   "cell_type": "code",
   "execution_count": 1,
   "metadata": {},
   "outputs": [],
   "source": [
    "%matplotlib inline\n",
    "import pandas as pd\n",
    "import numpy as np\n",
    "from sklearn.datasets import load_iris\n",
    "import seaborn as sns\n",
    "import matplotlib.pyplot as plt\n",
    "#import division, I think I had an issue running this with python 2. This makes divide sign work properly\n",
    "from __future__ import division"
   ]
  },
  {
   "cell_type": "code",
   "execution_count": 2,
   "metadata": {},
   "outputs": [
    {
     "data": {
      "text/plain": [
       "['class_0', 'class_1', 'class_2']"
      ]
     },
     "execution_count": 2,
     "metadata": {},
     "output_type": "execute_result"
    }
   ],
   "source": [
    "#import the unkwown wine file, as well as the wine dataset from sklearn\n",
    "infile = 'unknown_wine.csv'\n",
    "unknownwine = pd.read_csv(infile,sep=(','))\n",
    "from sklearn.datasets import load_wine\n",
    "wine = load_wine()\n",
    "wine.target\n",
    "list(wine.target_names)"
   ]
  },
  {
   "cell_type": "code",
   "execution_count": 3,
   "metadata": {},
   "outputs": [
    {
     "name": "stdout",
     "output_type": "stream",
     "text": [
      "(178, 13)\n",
      "(178,)\n"
     ]
    }
   ],
   "source": [
    "# Feature matrix in a object named X\n",
    "X = wine.data\n",
    "# response vector in a object named y\n",
    "y = wine.target\n",
    "#print the shape of X and Y\n",
    "print(np.shape(X))\n",
    "print(np.shape(y))"
   ]
  },
  {
   "cell_type": "code",
   "execution_count": 4,
   "metadata": {},
   "outputs": [],
   "source": [
    "#import the splitter (train/test) and the scaler\n",
    "from sklearn.model_selection import train_test_split\n",
    "from sklearn.preprocessing import StandardScaler\n",
    "#split the dataset\n",
    "X_train,X_test,y_train,y_test = train_test_split(X,y,test_size=0.2,random_state=4)\n",
    "#not scaling currently, it makes most models have accuracy above 0.9\n",
    "\n",
    "#scaler = StandardScaler()\n",
    "#scaler.fit(X_train)\n",
    "\n",
    "#X_train = scaler.transform(X_train)\n",
    "#X_test = scaler.transform(X_test)"
   ]
  },
  {
   "cell_type": "code",
   "execution_count": 5,
   "metadata": {},
   "outputs": [
    {
     "name": "stdout",
     "output_type": "stream",
     "text": [
      "(142, 13)\n",
      "(36, 13)\n"
     ]
    }
   ],
   "source": [
    "#check the shape of train and test objects\n",
    "print(X_train.shape)\n",
    "print(X_test.shape)"
   ]
  },
  {
   "cell_type": "code",
   "execution_count": 15,
   "metadata": {},
   "outputs": [
    {
     "data": {
      "text/plain": [
       "[[10, 1, 0.3611111111111111],\n",
       " [10, 2, 0.5833333333333334],\n",
       " [10, 3, 0.2777777777777778],\n",
       " [10, 4, 0.2777777777777778],\n",
       " [10, 5, 0.3611111111111111],\n",
       " [10, 6, 0.2777777777777778],\n",
       " [10, 7, 0.3611111111111111],\n",
       " [10, 8, 0.3611111111111111],\n",
       " [10, 9, 0.7222222222222222],\n",
       " [10, 10, 0.5555555555555556],\n",
       " [20, 1, 0.3888888888888889],\n",
       " [20, 2, 0.9722222222222222],\n",
       " [20, 3, 0.1111111111111111],\n",
       " [20, 4, 0.1388888888888889],\n",
       " [20, 5, 0.4166666666666667],\n",
       " [20, 6, 0.3611111111111111],\n",
       " [20, 7, 0.3611111111111111],\n",
       " [20, 8, 0.2777777777777778],\n",
       " [20, 9, 0.3611111111111111],\n",
       " [20, 10, 0.3611111111111111],\n",
       " [30, 1, 0.5555555555555556],\n",
       " [30, 2, 0.2777777777777778],\n",
       " [30, 3, 0.3611111111111111],\n",
       " [30, 4, 0.9722222222222222],\n",
       " [30, 5, 0.2777777777777778],\n",
       " [30, 6, 0.2777777777777778],\n",
       " [30, 7, 0.3611111111111111],\n",
       " [30, 8, 0.5555555555555556],\n",
       " [30, 9, 0.3611111111111111],\n",
       " [30, 10, 0.6388888888888888],\n",
       " [40, 1, 0.3611111111111111],\n",
       " [40, 2, 1.0],\n",
       " [40, 3, 0.2777777777777778],\n",
       " [40, 4, 0.3611111111111111],\n",
       " [40, 5, 0.2777777777777778],\n",
       " [40, 6, 0.1111111111111111],\n",
       " [40, 7, 0.3611111111111111],\n",
       " [40, 8, 0.9722222222222222],\n",
       " [40, 9, 0.3611111111111111],\n",
       " [40, 10, 0.2777777777777778],\n",
       " [50, 1, 0.6666666666666666],\n",
       " [50, 2, 0.6666666666666666],\n",
       " [50, 3, 0.3611111111111111],\n",
       " [50, 4, 0.3611111111111111],\n",
       " [50, 5, 0.1388888888888889],\n",
       " [50, 6, 0.19444444444444445],\n",
       " [50, 7, 0.9722222222222222],\n",
       " [50, 8, 0.5],\n",
       " [50, 9, 0.2777777777777778],\n",
       " [50, 10, 0.6388888888888888],\n",
       " [60, 1, 0.3611111111111111],\n",
       " [60, 2, 0.2777777777777778],\n",
       " [60, 3, 0.2777777777777778],\n",
       " [60, 4, 0.2777777777777778],\n",
       " [60, 5, 0.5277777777777778],\n",
       " [60, 6, 0.16666666666666666],\n",
       " [60, 7, 0.3888888888888889],\n",
       " [60, 8, 0.1111111111111111],\n",
       " [60, 9, 0.2777777777777778],\n",
       " [60, 10, 0.9722222222222222],\n",
       " [70, 1, 0.2777777777777778],\n",
       " [70, 2, 0.3333333333333333],\n",
       " [70, 3, 0.3611111111111111],\n",
       " [70, 4, 0.5277777777777778],\n",
       " [70, 5, 0.9444444444444444],\n",
       " [70, 6, 0.19444444444444445],\n",
       " [70, 7, 0.3611111111111111],\n",
       " [70, 8, 0.3611111111111111],\n",
       " [70, 9, 0.9722222222222222],\n",
       " [70, 10, 0.1111111111111111],\n",
       " [80, 1, 0.1388888888888889],\n",
       " [80, 2, 0.5],\n",
       " [80, 3, 0.5833333333333334],\n",
       " [80, 4, 0.2777777777777778],\n",
       " [80, 5, 0.5555555555555556],\n",
       " [80, 6, 0.9722222222222222],\n",
       " [80, 7, 0.9722222222222222],\n",
       " [80, 8, 0.9722222222222222],\n",
       " [80, 9, 0.5],\n",
       " [80, 10, 0.2777777777777778],\n",
       " [90, 1, 0.5833333333333334],\n",
       " [90, 2, 0.9444444444444444],\n",
       " [90, 3, 0.7222222222222222],\n",
       " [90, 4, 0.1388888888888889],\n",
       " [90, 5, 0.5277777777777778],\n",
       " [90, 6, 0.3611111111111111],\n",
       " [90, 7, 0.5833333333333334],\n",
       " [90, 8, 0.9444444444444444],\n",
       " [90, 9, 0.9722222222222222],\n",
       " [90, 10, 0.9722222222222222],\n",
       " [100, 1, 0.2777777777777778],\n",
       " [100, 2, 0.9444444444444444],\n",
       " [100, 3, 0.9722222222222222],\n",
       " [100, 4, 0.5277777777777778],\n",
       " [100, 5, 0.4166666666666667],\n",
       " [100, 6, 0.6111111111111112],\n",
       " [100, 7, 0.5833333333333334],\n",
       " [100, 8, 0.9722222222222222],\n",
       " [100, 9, 0.5277777777777778],\n",
       " [100, 10, 0.3611111111111111]]"
      ]
     },
     "execution_count": 15,
     "metadata": {},
     "output_type": "execute_result"
    }
   ],
   "source": [
    "#import classifier\n",
    "from sklearn.neural_network import MLPClassifier\n",
    "\n",
    "#import metrics model to check the accuracy \n",
    "from sklearn import metrics\n",
    "\n",
    "#initialize lists, goodfit saves node, layer count and accuracy, goodfitMATRIX saves the confusion matrix for\n",
    "#those that have accuracy above 0.9\n",
    "#results saves the nodes/layers/score for all models\n",
    "#layers is fed to the classifier, and is changed during each for and while loop\n",
    "goodfit = []\n",
    "goodfitMATRIX = []\n",
    "results = []\n",
    "layers = []\n",
    "count_layer = 1\n",
    "for x in range(10,110,10):\n",
    "    while count_layer <11:\n",
    "        layers.append(x)\n",
    "        mlp = MLPClassifier(hidden_layer_sizes=layers[count_layer-1],max_iter=1000)\n",
    "        mlp.fit(X_train,y_train)\n",
    "        predictions = mlp.predict(X_test)\n",
    "        accresults = metrics.accuracy_score(y_test,predictions)\n",
    "        res = [x,count_layer,accresults]\n",
    "        confmat = metrics.confusion_matrix(y_test, predictions)\n",
    "        if accresults >= 0.9:\n",
    "            goodfit.append(res)\n",
    "            goodfitMATRIX.append(confmat)\n",
    "        results.append(res)\n",
    "        count_layer = count_layer+1\n",
    "    count_layer = 1\n",
    "    layers = []\n",
    "#print results\n",
    "results"
   ]
  },
  {
   "cell_type": "code",
   "execution_count": 16,
   "metadata": {},
   "outputs": [
    {
     "data": {
      "image/png": "[encoded data removed]",
      "text/plain": [
       "<Figure size 432x288 with 2 Axes>"
      ]
     },
     "metadata": {
      "needs_background": "light"
     },
     "output_type": "display_data"
    }
   ],
   "source": [
    "#make results list into an array for plotting\n",
    "myarray = np.asarray(results)\n",
    "\n",
    "#make a dataframe with each column named for ploting\n",
    "data = pd.DataFrame({'nodes': myarray[:,0], 'layers': myarray[:,1], 'Z': myarray[:,2]})\n",
    "data_pivoted = data.pivot(\"nodes\", \"layers\", \"Z\")\n",
    "#vmin,vmax changed just to show mainly the ones above 0.9\n",
    "ax = sns.heatmap(data_pivoted,vmin=0.9, vmax=1)\n",
    "plt.show()"
   ]
  },
  {
   "cell_type": "code",
   "execution_count": 17,
   "metadata": {},
   "outputs": [
    {
     "name": "stdout",
     "output_type": "stream",
     "text": [
      "[20, 2, 0.9722222222222222]\n",
      "Precision = 1.0, Recall =  1.0, Accuracy =  1.0, F-mes = 1.0\n",
      "[30, 4, 0.9722222222222222]\n",
      "Precision = 1.0, Recall =  1.0, Accuracy =  1.0, F-mes = 1.0\n",
      "[40, 2, 1.0]\n",
      "Precision = 1.0, Recall =  1.0, Accuracy =  1.0, F-mes = 1.0\n",
      "[40, 8, 0.9722222222222222]\n",
      "Precision = 1.0, Recall =  1.0, Accuracy =  1.0, F-mes = 1.0\n",
      "[50, 7, 0.9722222222222222]\n",
      "Precision = 1.0, Recall =  1.0, Accuracy =  1.0, F-mes = 1.0\n",
      "[60, 10, 0.9722222222222222]\n",
      "Precision = 1.0, Recall =  1.0, Accuracy =  1.0, F-mes = 1.0\n",
      "[70, 5, 0.9444444444444444]\n",
      "Precision = 1.0, Recall =  0.9230769230769231, Accuracy =  0.96, F-mes = 0.9600000000000001\n",
      "[70, 9, 0.9722222222222222]\n",
      "Precision = 1.0, Recall =  1.0, Accuracy =  1.0, F-mes = 1.0\n",
      "[80, 6, 0.9722222222222222]\n",
      "Precision = 1.0, Recall =  1.0, Accuracy =  1.0, F-mes = 1.0\n",
      "[80, 7, 0.9722222222222222]\n",
      "Precision = 1.0, Recall =  1.0, Accuracy =  1.0, F-mes = 1.0\n",
      "[80, 8, 0.9722222222222222]\n",
      "Precision = 1.0, Recall =  1.0, Accuracy =  1.0, F-mes = 1.0\n",
      "[90, 2, 0.9444444444444444]\n",
      "Precision = 1.0, Recall =  0.9230769230769231, Accuracy =  0.96, F-mes = 0.9600000000000001\n",
      "[90, 8, 0.9444444444444444]\n",
      "Precision = 1.0, Recall =  0.9230769230769231, Accuracy =  0.96, F-mes = 0.9600000000000001\n",
      "[90, 9, 0.9722222222222222]\n",
      "Precision = 1.0, Recall =  1.0, Accuracy =  1.0, F-mes = 1.0\n",
      "[90, 10, 0.9722222222222222]\n",
      "Precision = 1.0, Recall =  1.0, Accuracy =  1.0, F-mes = 1.0\n",
      "[100, 2, 0.9444444444444444]\n",
      "Precision = 1.0, Recall =  0.9230769230769231, Accuracy =  0.96, F-mes = 0.9600000000000001\n",
      "[100, 3, 0.9722222222222222]\n",
      "Precision = 1.0, Recall =  1.0, Accuracy =  1.0, F-mes = 1.0\n",
      "[100, 8, 0.9722222222222222]\n",
      "Precision = 1.0, Recall =  1.0, Accuracy =  1.0, F-mes = 1.0\n"
     ]
    }
   ],
   "source": [
    "#for each model that has accuracy above 0.9, calculate the precision, recall, accuracy, Fmeasure, and print\n",
    "count = 0\n",
    "for i in goodfitMATRIX:\n",
    "    print goodfit[count]\n",
    "    confmat = i\n",
    "    Tp = confmat[1,1]\n",
    "    Fp = confmat[1,2]\n",
    "    Fn = confmat[2,1]\n",
    "    Tn = confmat[2,2]\n",
    "    Precision = Tp / np.add(Tp,Fp)\n",
    "    Recall = Tp / np.add(Tp,Fn)\n",
    "    Accuracy = np.add(Tp,Tn) / (Tp+Fp+Fn+Tn)\n",
    "    Fmeasure = (2*Recall*Precision) / np.add(Recall,Precision)\n",
    "    print ('Precision = %s, Recall =  %s, Accuracy =  %s, F-mes = %s' % (Precision,Recall,Accuracy,Fmeasure))\n",
    "    count = count+1"
   ]
  },
  {
   "cell_type": "code",
   "execution_count": 19,
   "metadata": {},
   "outputs": [
    {
     "data": {
      "text/plain": [
       "0.8888888888888888"
      ]
     },
     "execution_count": 19,
     "metadata": {},
     "output_type": "execute_result"
    }
   ],
   "source": [
    "#use best model to train data and return accuracy\n",
    "\n",
    "mlp = MLPClassifier(hidden_layer_sizes=(100,100,100),max_iter=1000)\n",
    "mlp.fit(X_train,y_train)\n",
    "predictions = mlp.predict(X_test)\n",
    "accresults = metrics.accuracy_score(y_test,predictions)\n",
    "accresults"
   ]
  },
  {
   "cell_type": "code",
   "execution_count": null,
   "metadata": {},
   "outputs": [],
   "source": []
  },
  {
   "cell_type": "code",
   "execution_count": null,
   "metadata": {},
   "outputs": [],
   "source": []
  },
  {
   "cell_type": "code",
   "execution_count": null,
   "metadata": {},
   "outputs": [],
   "source": []
  },
  {
   "cell_type": "code",
   "execution_count": null,
   "metadata": {},
   "outputs": [],
   "source": []
  },
  {
   "cell_type": "code",
   "execution_count": null,
   "metadata": {},
   "outputs": [],
   "source": []
  },
  {
   "cell_type": "code",
   "execution_count": null,
   "metadata": {},
   "outputs": [],
   "source": []
  },
  {
   "cell_type": "code",
   "execution_count": null,
   "metadata": {},
   "outputs": [],
   "source": []
  },
  {
   "cell_type": "code",
   "execution_count": null,
   "metadata": {},
   "outputs": [],
   "source": []
  },
  {
   "cell_type": "code",
   "execution_count": null,
   "metadata": {},
   "outputs": [],
   "source": []
  },
  {
   "cell_type": "code",
   "execution_count": null,
   "metadata": {},
   "outputs": [],
   "source": []
  },
  {
   "cell_type": "code",
   "execution_count": null,
   "metadata": {},
   "outputs": [],
   "source": []
  }
 ],
 "metadata": {
  "kernelspec": {
   "display_name": "Python 2",
   "language": "python",
   "name": "python2"
  },
  "language_info": {
   "codemirror_mode": {
    "name": "ipython",
    "version": 2
   },
   "file_extension": ".py",
   "mimetype": "text/x-python",
   "name": "python",
   "nbconvert_exporter": "python",
   "pygments_lexer": "ipython2",
   "version": "2.7.16"
  }
 },
 "nbformat": 4,
 "nbformat_minor": 2
}
